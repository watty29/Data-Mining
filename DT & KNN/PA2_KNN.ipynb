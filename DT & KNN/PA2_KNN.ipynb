{
 "cells": [
  {
   "cell_type": "markdown",
   "metadata": {},
   "source": [
    "## Student Details\n",
    "\n",
    "When submitting, fill your name and ID in this cell. Note that this is a markdown cell.\n",
    "\n"
   ]
  },
  {
   "cell_type": "code",
   "execution_count": 1,
   "metadata": {},
   "outputs": [],
   "source": [
    "# special IPython command to prepare the notebook for matplotlib\n",
    "%matplotlib inline \n",
    "\n",
    "#Array processing\n",
    "import numpy as np\n",
    "#Data analysis, wrangling and common exploratory operations\n",
    "import pandas as pd\n",
    "from pandas import Series, DataFrame\n",
    "\n",
    "#For visualization. Matplotlib for basic viz and seaborn for more stylish figures\n",
    "import matplotlib.pyplot as plt\n",
    "# import seaborn as sns\n",
    "import seaborn as sns\n",
    "#For some of the date operations\n",
    "#import datetime\n",
    "import datetime"
   ]
  },
  {
   "cell_type": "code",
   "execution_count": 2,
   "metadata": {},
   "outputs": [
    {
     "name": "stdout",
     "output_type": "stream",
     "text": [
      "First 5 rows of the dataset \n",
      "\n",
      "         Date  Age          WorkClass  fnlwgt   education  education-num  \\\n",
      "0  3/20/1994   39          State-gov   77516   Bachelors             13   \n",
      "1  1/14/1994   50   Self-emp-not-inc   83311   Bachelors             13   \n",
      "2  8/14/1994   38            Private  215646     HS-grad              9   \n",
      "3  3/17/1994   53            Private  234721        11th              7   \n",
      "4  9/20/1994   28            Private  338409   Bachelors             13   \n",
      "\n",
      "        marital-status          occupation    relationship    race   gender  \\\n",
      "0        Never-married        Adm-clerical   Not-in-family   White     Male   \n",
      "1   Married-civ-spouse     Exec-managerial         Husband   White     Male   \n",
      "2             Divorced   Handlers-cleaners   Not-in-family   White     Male   \n",
      "3   Married-civ-spouse   Handlers-cleaners         Husband   Black     Male   \n",
      "4   Married-civ-spouse      Prof-specialty            Wife   Black   Female   \n",
      "\n",
      "   capital-gain  capital-loss  hours-per-week  native-country   class  \n",
      "0          2174             0              40   United-States   <=50K  \n",
      "1             0             0              13   United-States   <=50K  \n",
      "2             0             0              40   United-States   <=50K  \n",
      "3             0             0              40   United-States   <=50K  \n",
      "4             0             0              40            Cuba   <=50K   \n",
      "\n",
      "\n",
      "Last 5 rows of the dataset \n",
      "\n",
      "              Date  Age      WorkClass  fnlwgt    education  education-num  \\\n",
      "32556  12/29/1994   27        Private  257302   Assoc-acdm             12   \n",
      "32557   1/30/1994   40        Private  154374      HS-grad              9   \n",
      "32558   9/26/1994   58        Private  151910      HS-grad              9   \n",
      "32559    4/5/1994   22        Private  201490      HS-grad              9   \n",
      "32560    3/5/1994   52   Self-emp-inc  287927      HS-grad              9   \n",
      "\n",
      "            marital-status          occupation relationship    race   gender  \\\n",
      "32556   Married-civ-spouse        Tech-support         Wife   White   Female   \n",
      "32557   Married-civ-spouse   Machine-op-inspct      Husband   White     Male   \n",
      "32558              Widowed        Adm-clerical    Unmarried   White   Female   \n",
      "32559        Never-married        Adm-clerical    Own-child   White     Male   \n",
      "32560   Married-civ-spouse     Exec-managerial         Wife   White   Female   \n",
      "\n",
      "       capital-gain  capital-loss  hours-per-week  native-country   class  \n",
      "32556             0             0              38   United-States   <=50K  \n",
      "32557             0             0              40   United-States    >50K  \n",
      "32558             0             0              40   United-States   <=50K  \n",
      "32559             0             0              20   United-States   <=50K  \n",
      "32560         15024             0              40   United-States    >50K   \n",
      "\n",
      "\n"
     ]
    }
   ],
   "source": [
    "#read the csv file into a Pandas data frame\n",
    "df_census = pd.read_csv('census1994.csv')\n",
    "\n",
    "#return the first 5 rows of the dataset\n",
    "print(\"First 5 rows of the dataset\",'\\n\\n',df_census.head(),'\\n\\n')\n",
    "\n",
    "#return the last 5 rows of the dataset\n",
    "print(\"Last 5 rows of the dataset\",'\\n\\n',df_census.tail(),'\\n\\n')"
   ]
  },
  {
   "cell_type": "code",
   "execution_count": 3,
   "metadata": {},
   "outputs": [
    {
     "name": "stdout",
     "output_type": "stream",
     "text": [
      "(30162, 16)\n"
     ]
    }
   ],
   "source": [
    "#cleaning the dataset\n",
    "data = df_census[df_census['native-country']!=' ?']\n",
    "data1 = data[data['WorkClass']!=' ?']\n",
    "df = data1[data1['occupation']!=' ?']\n",
    "print(df.shape)"
   ]
  },
  {
   "cell_type": "code",
   "execution_count": 4,
   "metadata": {},
   "outputs": [
    {
     "data": {
      "text/plain": [
       "Index(['Date', 'Age', 'WorkClass', 'fnlwgt', 'education', 'education-num',\n",
       "       'marital-status', 'occupation', 'relationship', 'race', 'gender',\n",
       "       'capital-gain', 'capital-loss', 'hours-per-week', 'native-country',\n",
       "       'class'],\n",
       "      dtype='object')"
      ]
     },
     "execution_count": 4,
     "metadata": {},
     "output_type": "execute_result"
    }
   ],
   "source": [
    "# print the column names\n",
    "df.columns"
   ]
  },
  {
   "cell_type": "code",
   "execution_count": 5,
   "metadata": {},
   "outputs": [
    {
     "name": "stdout",
     "output_type": "stream",
     "text": [
      "(30162, 1)\n",
      "(30162,)\n"
     ]
    }
   ],
   "source": [
    "x=df[['Age']].values\n",
    "from sklearn import preprocessing\n",
    "le = preprocessing.LabelEncoder()\n",
    "y=le.fit_transform(df['class'])\n",
    "print(x.shape)\n",
    "print(y.shape)"
   ]
  },
  {
   "cell_type": "code",
   "execution_count": 6,
   "metadata": {},
   "outputs": [],
   "source": [
    "from sklearn.model_selection import train_test_split\n",
    "xTrain, xTest, yTrain, yTest = train_test_split(x, y, test_size = 0.3, random_state = 0)"
   ]
  },
  {
   "cell_type": "code",
   "execution_count": 7,
   "metadata": {},
   "outputs": [
    {
     "data": {
      "text/plain": [
       "((21113, 1), (9049, 1), (21113,), (9049,))"
      ]
     },
     "execution_count": 7,
     "metadata": {},
     "output_type": "execute_result"
    }
   ],
   "source": [
    "xTrain.shape,xTest.shape,yTrain.shape,yTest.shape"
   ]
  },
  {
   "cell_type": "code",
   "execution_count": 14,
   "metadata": {},
   "outputs": [
    {
     "name": "stdout",
     "output_type": "stream",
     "text": [
      "Randomised list is:  [6, 20, 13, 12, 12]\n"
     ]
    }
   ],
   "source": [
    "import random\n",
    "# random list for K-value\n",
    "a=[]\n",
    "ran = range(5)\n",
    "for j in ran:\n",
    "    a.append(random.randint(1,20))\n",
    "print('Randomised list is: ',a)"
   ]
  },
  {
   "cell_type": "code",
   "execution_count": 15,
   "metadata": {},
   "outputs": [
    {
     "name": "stdout",
     "output_type": "stream",
     "text": [
      "Accuracy is  72.60470770250856 % for K-Value: 6\n",
      "\n",
      " Confusion matrix\n",
      " [[6272  492]\n",
      " [1987  298]]\n",
      "\n",
      " Classification Report\n",
      "               precision    recall  f1-score   support\n",
      "\n",
      "           0       0.76      0.93      0.83      6764\n",
      "           1       0.38      0.13      0.19      2285\n",
      "\n",
      "    accuracy                           0.73      9049\n",
      "   macro avg       0.57      0.53      0.51      9049\n",
      "weighted avg       0.66      0.73      0.67      9049\n",
      "\n",
      "Accuracy is  73.66559840866394 % for K-Value: 20\n",
      "\n",
      " Confusion matrix\n",
      " [[6488  276]\n",
      " [2107  178]]\n",
      "\n",
      " Classification Report\n",
      "               precision    recall  f1-score   support\n",
      "\n",
      "           0       0.75      0.96      0.84      6764\n",
      "           1       0.39      0.08      0.13      2285\n",
      "\n",
      "    accuracy                           0.74      9049\n",
      "   macro avg       0.57      0.52      0.49      9049\n",
      "weighted avg       0.66      0.74      0.66      9049\n",
      "\n",
      "Accuracy is  71.99690573544038 % for K-Value: 13\n",
      "\n",
      " Confusion matrix\n",
      " [[6090  674]\n",
      " [1860  425]]\n",
      "\n",
      " Classification Report\n",
      "               precision    recall  f1-score   support\n",
      "\n",
      "           0       0.77      0.90      0.83      6764\n",
      "           1       0.39      0.19      0.25      2285\n",
      "\n",
      "    accuracy                           0.72      9049\n",
      "   macro avg       0.58      0.54      0.54      9049\n",
      "weighted avg       0.67      0.72      0.68      9049\n",
      "\n",
      "Accuracy is  72.67101337164328 % for K-Value: 12\n",
      "\n",
      " Confusion matrix\n",
      " [[6237  527]\n",
      " [1946  339]]\n",
      "\n",
      " Classification Report\n",
      "               precision    recall  f1-score   support\n",
      "\n",
      "           0       0.76      0.92      0.83      6764\n",
      "           1       0.39      0.15      0.22      2285\n",
      "\n",
      "    accuracy                           0.73      9049\n",
      "   macro avg       0.58      0.54      0.52      9049\n",
      "weighted avg       0.67      0.73      0.68      9049\n",
      "\n",
      "Accuracy is  72.67101337164328 % for K-Value: 12\n",
      "\n",
      " Confusion matrix\n",
      " [[6237  527]\n",
      " [1946  339]]\n",
      "\n",
      " Classification Report\n",
      "               precision    recall  f1-score   support\n",
      "\n",
      "           0       0.76      0.92      0.83      6764\n",
      "           1       0.39      0.15      0.22      2285\n",
      "\n",
      "    accuracy                           0.73      9049\n",
      "   macro avg       0.58      0.54      0.52      9049\n",
      "weighted avg       0.67      0.73      0.68      9049\n",
      "\n"
     ]
    }
   ],
   "source": [
    "# applying KNN with euclidean and finding accuracy score\n",
    "from sklearn.neighbors import KNeighborsClassifier\n",
    "from sklearn.metrics import confusion_matrix, accuracy_score, classification_report\n",
    "scores={}\n",
    "scores_list=[]\n",
    "for k in a:\n",
    "    knn = KNeighborsClassifier(n_neighbors = k, algorithm='auto', metric='euclidean')\n",
    "    knn.fit(xTrain, yTrain) \n",
    "    y_pred = knn.predict(xTest)\n",
    "    # Generate Confusion Matrix\n",
    "    cm_knn = confusion_matrix(yTest, y_pred)\n",
    "\n",
    "    # Generate Classification Report\n",
    "    cr_knn = classification_report(yTest, y_pred)\n",
    "    print (\"Accuracy is \", accuracy_score(yTest,y_pred)*100,\"% for K-Value:\",k)\n",
    "    print(\"\\n Confusion matrix\\n\",cm_knn)\n",
    "    print(\"\\n Classification Report\\n\",cr_knn)\n",
    "    scores[k] = accuracy_score(yTest,y_pred)*100\n",
    "    scores_list.append(accuracy_score(yTest,y_pred)*100)"
   ]
  },
  {
   "cell_type": "code",
   "execution_count": 16,
   "metadata": {},
   "outputs": [
    {
     "data": {
      "text/plain": [
       "([<matplotlib.axis.XTick at 0x21fe44c2860>,\n",
       "  <matplotlib.axis.XTick at 0x21fe44bb940>,\n",
       "  <matplotlib.axis.XTick at 0x21fe44bbb70>,\n",
       "  <matplotlib.axis.XTick at 0x21fe44f6cc0>,\n",
       "  <matplotlib.axis.XTick at 0x21fe44ff198>],\n",
       " <a list of 5 Text xticklabel objects>)"
      ]
     },
     "execution_count": 16,
     "metadata": {},
     "output_type": "execute_result"
    },
    {
     "data": {
      "image/png": "[encoded data removed]",
      "text/plain": [
       "<Figure size 432x288 with 1 Axes>"
      ]
     },
     "metadata": {
      "needs_background": "light"
     },
     "output_type": "display_data"
    }
   ],
   "source": [
    "# visualization of KNN\n",
    "plt.plot(ran,scores_list)\n",
    "plt.xlabel(\"Value of K for KNN\")\n",
    "plt.ylabel(\"Testing Accuracy(%)\")\n",
    "plt.xticks(a)"
   ]
  },
  {
   "cell_type": "code",
   "execution_count": null,
   "metadata": {},
   "outputs": [],
   "source": []
  }
 ],
 "metadata": {
  "kernelspec": {
   "display_name": "Python 3",
   "language": "python",
   "name": "python3"
  },
  "language_info": {
   "codemirror_mode": {
    "name": "ipython",
    "version": 3
   },
   "file_extension": ".py",
   "mimetype": "text/x-python",
   "name": "python",
   "nbconvert_exporter": "python",
   "pygments_lexer": "ipython3",
   "version": "3.7.3"
  },
  "pycharm": {
   "stem_cell": {
    "cell_type": "raw",
    "source": [],
    "metadata": {
     "collapsed": false
    }
   }
  }
 },
 "nbformat": 4,
 "nbformat_minor": 2
}